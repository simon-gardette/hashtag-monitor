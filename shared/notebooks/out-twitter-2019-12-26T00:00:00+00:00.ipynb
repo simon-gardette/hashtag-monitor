{
 "cells": [
  {
   "cell_type": "code",
   "execution_count": null,
   "metadata": {
    "hide_input": true,
    "inputHidden": true
   },
   "outputs": [
    {
     "data": {
      "text/html": [
       "<span style=\"color:red; font-family:Helvetica Neue, Helvetica, Arial, sans-serif; font-size:2em;\">An Exception was encountered at 'In [3]'.</span>"
      ]
     },
     "metadata": {},
     "output_type": "display_data"
    }
   ],
   "source": [
    "%%html\n",
    "<span style=\"color:red; font-family:Helvetica Neue, Helvetica, Arial, sans-serif; font-size:2em;\">An Exception was encountered at 'In [3]'.</span>"
   ]
  },
  {
   "cell_type": "code",
   "execution_count": 1,
   "metadata": {
    "papermill": {
     "duration": 0.035443,
     "end_time": "2019-12-27T12:18:41.175023",
     "exception": false,
     "start_time": "2019-12-27T12:18:41.139580",
     "status": "completed"
    },
    "tags": [
     "injected-parameters"
    ]
   },
   "outputs": [],
   "source": [
    "# Parameters\n",
    "parameter_1 = \"some_value\"\n"
   ]
  },
  {
   "cell_type": "code",
   "execution_count": 2,
   "metadata": {
    "papermill": {
     "duration": 0.911536,
     "end_time": "2019-12-27T12:18:42.104611",
     "exception": false,
     "start_time": "2019-12-27T12:18:41.193075",
     "status": "completed"
    },
    "tags": [
     "imports"
    ]
   },
   "outputs": [],
   "source": [
    "import tweepy\n",
    "import os\n",
    "import json\n",
    "from IPython.display import JSON\n",
    "import logging\n",
    "import parser\n",
    "import traceback\n",
    "import sys\n",
    "import sqlalchemy"
   ]
  },
  {
   "cell_type": "markdown",
   "metadata": {
    "papermill": {
     "duration": 0.044058,
     "end_time": "2019-12-27T12:18:42.176326",
     "exception": false,
     "start_time": "2019-12-27T12:18:42.132268",
     "status": "completed"
    },
    "tags": []
   },
   "source": [
    "Oauth handling (probably should do a class later). Shouldalso use an generator for secret and key but as twitter doesn't expire it it will do for the moment. \n",
    "In a production version I would probably generate an app by account so I can track each account usage. \n",
    "\n",
    "Oauth 2 could also psossibly be a solution as I only need public infos. "
   ]
  },
  {
   "cell_type": "code",
   "execution_count": 3,
   "metadata": {
    "papermill": {
     "duration": 0.324017,
     "end_time": "2019-12-27T12:18:42.522028",
     "exception": true,
     "start_time": "2019-12-27T12:18:42.198011",
     "status": "failed"
    },
    "tags": []
   },
   "outputs": [
    {
     "ename": "KeyError",
     "evalue": "'TWITTER_API_KEY'",
     "output_type": "error",
     "traceback": [
      "\u001b[0;31m---------------------------------------------------------------------------\u001b[0m",
      "\u001b[0;31mKeyError\u001b[0m                                  Traceback (most recent call last)",
      "\u001b[0;32m<ipython-input-3-cc26cce1bbf2>\u001b[0m in \u001b[0;36m<module>\u001b[0;34m\u001b[0m\n\u001b[0;32m----> 1\u001b[0;31m \u001b[0mconsumer_key\u001b[0m \u001b[0;34m=\u001b[0m \u001b[0mos\u001b[0m\u001b[0;34m.\u001b[0m\u001b[0menviron\u001b[0m\u001b[0;34m[\u001b[0m\u001b[0;34m'TWITTER_API_KEY'\u001b[0m\u001b[0;34m]\u001b[0m\u001b[0;34m\u001b[0m\u001b[0;34m\u001b[0m\u001b[0m\n\u001b[0m\u001b[1;32m      2\u001b[0m \u001b[0mconsumer_secret\u001b[0m \u001b[0;34m=\u001b[0m \u001b[0mos\u001b[0m\u001b[0;34m.\u001b[0m\u001b[0menviron\u001b[0m\u001b[0;34m[\u001b[0m\u001b[0;34m'TWITTER_API_SECRET'\u001b[0m\u001b[0;34m]\u001b[0m\u001b[0;34m\u001b[0m\u001b[0;34m\u001b[0m\u001b[0m\n\u001b[1;32m      3\u001b[0m \u001b[0mkey\u001b[0m \u001b[0;34m=\u001b[0m \u001b[0mos\u001b[0m\u001b[0;34m.\u001b[0m\u001b[0menviron\u001b[0m\u001b[0;34m[\u001b[0m\u001b[0;34m'TWITTER_ACCESS_TOKEN'\u001b[0m\u001b[0;34m]\u001b[0m\u001b[0;34m\u001b[0m\u001b[0;34m\u001b[0m\u001b[0m\n\u001b[1;32m      4\u001b[0m \u001b[0msecret\u001b[0m \u001b[0;34m=\u001b[0m \u001b[0mos\u001b[0m\u001b[0;34m.\u001b[0m\u001b[0menviron\u001b[0m\u001b[0;34m[\u001b[0m\u001b[0;34m'TWITTER_ACCESS_SECRET'\u001b[0m\u001b[0;34m]\u001b[0m\u001b[0;34m\u001b[0m\u001b[0;34m\u001b[0m\u001b[0m\n\u001b[1;32m      5\u001b[0m \u001b[0;34m\u001b[0m\u001b[0m\n",
      "\u001b[0;32m/usr/local/lib/python3.7/os.py\u001b[0m in \u001b[0;36m__getitem__\u001b[0;34m(self, key)\u001b[0m\n\u001b[1;32m    677\u001b[0m         \u001b[0;32mexcept\u001b[0m \u001b[0mKeyError\u001b[0m\u001b[0;34m:\u001b[0m\u001b[0;34m\u001b[0m\u001b[0;34m\u001b[0m\u001b[0m\n\u001b[1;32m    678\u001b[0m             \u001b[0;31m# raise KeyError with the original key value\u001b[0m\u001b[0;34m\u001b[0m\u001b[0;34m\u001b[0m\u001b[0;34m\u001b[0m\u001b[0m\n\u001b[0;32m--> 679\u001b[0;31m             \u001b[0;32mraise\u001b[0m \u001b[0mKeyError\u001b[0m\u001b[0;34m(\u001b[0m\u001b[0mkey\u001b[0m\u001b[0;34m)\u001b[0m \u001b[0;32mfrom\u001b[0m \u001b[0;32mNone\u001b[0m\u001b[0;34m\u001b[0m\u001b[0;34m\u001b[0m\u001b[0m\n\u001b[0m\u001b[1;32m    680\u001b[0m         \u001b[0;32mreturn\u001b[0m \u001b[0mself\u001b[0m\u001b[0;34m.\u001b[0m\u001b[0mdecodevalue\u001b[0m\u001b[0;34m(\u001b[0m\u001b[0mvalue\u001b[0m\u001b[0;34m)\u001b[0m\u001b[0;34m\u001b[0m\u001b[0;34m\u001b[0m\u001b[0m\n\u001b[1;32m    681\u001b[0m \u001b[0;34m\u001b[0m\u001b[0m\n",
      "\u001b[0;31mKeyError\u001b[0m: 'TWITTER_API_KEY'"
     ]
    }
   ],
   "source": [
    "consumer_key = os.environ['TWITTER_API_KEY']\n",
    "consumer_secret = os.environ['TWITTER_API_SECRET']\n",
    "key = os.environ['TWITTER_ACCESS_TOKEN']\n",
    "secret = os.environ['TWITTER_ACCESS_SECRET']\n",
    "\n",
    "auth = tweepy.OAuthHandler(consumer_key, consumer_secret)\n",
    "auth.set_access_token(key, secret)\n",
    "api = tweepy.API(auth)"
   ]
  },
  {
   "cell_type": "markdown",
   "metadata": {
    "papermill": {
     "duration": null,
     "end_time": null,
     "exception": null,
     "start_time": null,
     "status": "pending"
    },
    "tags": []
   },
   "source": [
    "# using tweepy \n",
    "The main objective is to gather infos from twitter. We're gonna use the stream endpoint because using the search doesn't return all the tweets.\n",
    "\n",
    "Probably end up bumping into api limitations pretty fast but it will be ok for the demo.\n",
    "\n",
    "The process will be the following : \n",
    "\n",
    "- Get latest tweet \n",
    "- Store Raw response (probably in an S3/minio bucket. will probably do it in second time but it should be a good idea in case the processing crashes\n",
    "- get relevant datas\n",
    "- run additional infos gathering and transform \n",
    "      - detect mood ? \n",
    "      - lang detection ? \n",
    "      - ...\n",
    "- store in the sql base (shared) "
   ]
  },
  {
   "cell_type": "code",
   "execution_count": null,
   "metadata": {
    "papermill": {
     "duration": null,
     "end_time": null,
     "exception": null,
     "start_time": null,
     "status": "pending"
    },
    "tags": []
   },
   "outputs": [],
   "source": [
    "#set up our main class using tweepy.StreamListener\n",
    "class TwitterListener(tweepy.StreamListener):\n",
    "    \n",
    "    def __init__(self):\n",
    "        self.database = os.environ['SHARED_DB_URI']\n",
    "\n",
    "    def on_error(self, status_code):\n",
    "        if status_code == 420:\n",
    "            # returning False in on_data disconnects the stream\n",
    "            return False\n",
    "\n",
    "    def on_status(self, status):\n",
    "        print(status.text)\n",
    "        return True\n",
    "\n",
    "    def on_data(self, data):\n",
    "        \"\"\"\n",
    "        Automatic detection of the kind of data collected from Twitter\n",
    "        This method reads in tweet data as JSON and extracts the data we want.\n",
    "        \"\"\"\n",
    "        try:\n",
    "            # parse as json\n",
    "            raw_data = json.loads(data)\n",
    "\n",
    "            # extract the relevant data\n",
    "            if \"text\" in raw_data:\n",
    "                user = raw_data[\"user\"][\"screen_name\"]\n",
    "                created_at = raw_data[\"created_at\"]\n",
    "                tweet = raw_data[\"text\"]\n",
    "                retweet_count = raw_data[\"retweet_count\"]\n",
    "                id_str = raw_data[\"id_str\"]\n",
    "\n",
    "           #insert data just collected into MySQL my_database\n",
    "           populate_table(user, created_at, tweet, retweet_count, id_str)\n",
    "            print(f\"Tweet colleted at: {created_at}\")\n",
    "\n",
    "        except Exception as e:\n",
    "            logging.error(traceback.format_exc())\n",
    "            # Logs the error appropriately. \n",
    "            \n",
    "\n",
    "# todo : create the tables on init\n",
    "    def populate_table(\n",
    "        self, user, created_at, tweet, retweet_count, id_str, raw_data\n",
    "    ):\n",
    "        \"\"\"Populate a given table witht he Twitter collected data\n",
    "\n",
    "        Args:\n",
    "            user (str): username from the status\n",
    "            created_at (datetime): when the tweet was created\n",
    "            tweet (str): text\n",
    "            retweet_count (int): number of retweets\n",
    "            id_str (int): unique id for the tweet\n",
    "            raw_data (json) : storing raw data for further usage\n",
    "        \"\"\"\n",
    "\n",
    "        dbconnect = connect_db(self.database)\n",
    "\n",
    "        cursor = dbconnect.cursor()\n",
    "        cursor.execute(\"USE airflowdb\")\n",
    "\n",
    "        # add content here\n",
    "\n",
    "        try:\n",
    "            # what is missing? \n",
    "            commit()\n",
    "            print(\"commited\")\n",
    "\n",
    "        except mysql.Error as e:\n",
    "            print(e)\n",
    "            dbconnect.rollback()\n",
    "\n",
    "        cursor.close()\n",
    "        dbconnect.close()\n",
    "\n",
    "        return\n"
   ]
  },
  {
   "cell_type": "code",
   "execution_count": null,
   "metadata": {
    "papermill": {
     "duration": null,
     "end_time": null,
     "exception": null,
     "start_time": null,
     "status": "pending"
    },
    "tags": []
   },
   "outputs": [],
   "source": [
    "tweepy_listener = TwitterListener()\n",
    "tweepy_stream = tweepy.Stream(auth = api.auth, listener=tweepy_listener)\n",
    "results = tweepy_stream.filter(track=['Minecraft'])"
   ]
  },
  {
   "cell_type": "code",
   "execution_count": null,
   "metadata": {
    "papermill": {
     "duration": null,
     "end_time": null,
     "exception": null,
     "start_time": null,
     "status": "pending"
    },
    "tags": []
   },
   "outputs": [],
   "source": [
    "print(results)"
   ]
  },
  {
   "cell_type": "code",
   "execution_count": null,
   "metadata": {
    "papermill": {
     "duration": null,
     "end_time": null,
     "exception": null,
     "start_time": null,
     "status": "pending"
    },
    "tags": []
   },
   "outputs": [],
   "source": []
  }
 ],
 "metadata": {
  "kernelspec": {
   "display_name": "Python 3",
   "language": "python",
   "name": "python3"
  },
  "language_info": {
   "codemirror_mode": {
    "name": "ipython",
    "version": 3
   },
   "file_extension": ".py",
   "mimetype": "text/x-python",
   "name": "python",
   "nbconvert_exporter": "python",
   "pygments_lexer": "ipython3",
   "version": "3.7.6"
  },
  "papermill": {
   "duration": 5.36783,
   "end_time": "2019-12-27T12:18:42.948430",
   "environment_variables": {},
   "exception": true,
   "input_path": "/usr/local/airflow/notebooks/twitter.ipynb",
   "output_path": "/usr/local/airflow/notebooks/out-twitter-2019-12-26T00:00:00+00:00.ipynb",
   "parameters": {
    "parameter_1": "some_value"
   },
   "start_time": "2019-12-27T12:18:37.580600",
   "version": "1.2.1"
  }
 },
 "nbformat": 4,
 "nbformat_minor": 4
}